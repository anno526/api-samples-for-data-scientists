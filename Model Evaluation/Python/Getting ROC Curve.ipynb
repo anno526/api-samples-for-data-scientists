{
 "cells": [
  {
   "cell_type": "markdown",
   "metadata": {},
   "source": [
    "## Getting ROC Curve"
   ]
  },
  {
   "cell_type": "markdown",
   "metadata": {},
   "source": [
    "### Scope\n",
    "The scope of this notebook is to provide instructions on how to get ROC Curve data of a specific model using the Python API.\n",
    "\n",
    "### Background\n",
    "Insights provided by the ROC Curve are helpful in evaluating the performance of machine learning models. \n",
    "\n",
    "The receiver operating characteristic curve, or ROC curve, is a graphical plot that illustrates the performance of a binary classifier system as its discrimination threshold is varied. The curve is created by plotting the true positive rate (TPR) against the false positive rate (FPR) at various threshold settings.\n",
    "\n",
    "### Requirements\n",
    "\n",
    "- Python version 3.7.3\n",
    "-  DataRobot API version 2.19.0. \n",
    "Small adjustments might be needed depending on the Python version and DataRobot API version you are using.\n",
    "\n",
    "Full documentation of the Python package can be found here: https://datarobot-public-api-client.readthedocs-hosted.com/en/\n",
    "\n",
    "It is assumed you already have a DataRobot <code>Project</code> object and a DataRobot <code>Model</code> object."
   ]
  },
  {
   "cell_type": "markdown",
   "metadata": {},
   "source": [
    "#### Import Libraries"
   ]
  },
  {
   "cell_type": "code",
   "execution_count": 2,
   "metadata": {},
   "outputs": [],
   "source": [
    "import datarobot as dr\n",
    "import pandas as pd\n",
    "import matplotlib.pyplot as plt"
   ]
  },
  {
   "cell_type": "markdown",
   "metadata": {},
   "source": [
    "#### Requesting ROC Curve Data\n",
    "\n",
    "ROC curve data can be generated for a specific data partition (validation, cross validation, or holdout) or for all the data partition using the <code>get_roc_curve</code> method.\n",
    "\n",
    "To retrieve ROC curve information:"
   ]
  },
  {
   "cell_type": "code",
   "execution_count": 5,
   "metadata": {},
   "outputs": [
    {
     "data": {
      "text/html": [
       "<div>\n",
       "<style scoped>\n",
       "    .dataframe tbody tr th:only-of-type {\n",
       "        vertical-align: middle;\n",
       "    }\n",
       "\n",
       "    .dataframe tbody tr th {\n",
       "        vertical-align: top;\n",
       "    }\n",
       "\n",
       "    .dataframe thead th {\n",
       "        text-align: right;\n",
       "    }\n",
       "</style>\n",
       "<table border=\"1\" class=\"dataframe\">\n",
       "  <thead>\n",
       "    <tr style=\"text-align: right;\">\n",
       "      <th></th>\n",
       "      <th>accuracy</th>\n",
       "      <th>f1_score</th>\n",
       "      <th>false_negative_score</th>\n",
       "      <th>false_positive_rate</th>\n",
       "      <th>false_positive_score</th>\n",
       "      <th>fraction_predicted_as_negative</th>\n",
       "      <th>fraction_predicted_as_positive</th>\n",
       "      <th>lift_negative</th>\n",
       "      <th>lift_positive</th>\n",
       "      <th>matthews_correlation_coefficient</th>\n",
       "      <th>negative_predictive_value</th>\n",
       "      <th>positive_predictive_value</th>\n",
       "      <th>threshold</th>\n",
       "      <th>true_negative_rate</th>\n",
       "      <th>true_negative_score</th>\n",
       "      <th>true_positive_rate</th>\n",
       "      <th>true_positive_score</th>\n",
       "    </tr>\n",
       "  </thead>\n",
       "  <tbody>\n",
       "    <tr>\n",
       "      <th>0</th>\n",
       "      <td>0.603125</td>\n",
       "      <td>0.000000</td>\n",
       "      <td>635</td>\n",
       "      <td>0.0</td>\n",
       "      <td>0</td>\n",
       "      <td>1.00000</td>\n",
       "      <td>0.00000</td>\n",
       "      <td>1.000000</td>\n",
       "      <td>0.000000</td>\n",
       "      <td>0.000000</td>\n",
       "      <td>0.603125</td>\n",
       "      <td>0.0</td>\n",
       "      <td>1.000000</td>\n",
       "      <td>1.0</td>\n",
       "      <td>965</td>\n",
       "      <td>0.000000</td>\n",
       "      <td>0</td>\n",
       "    </tr>\n",
       "    <tr>\n",
       "      <th>1</th>\n",
       "      <td>0.604375</td>\n",
       "      <td>0.006279</td>\n",
       "      <td>633</td>\n",
       "      <td>0.0</td>\n",
       "      <td>0</td>\n",
       "      <td>0.99875</td>\n",
       "      <td>0.00125</td>\n",
       "      <td>1.001252</td>\n",
       "      <td>2.519685</td>\n",
       "      <td>0.043612</td>\n",
       "      <td>0.603880</td>\n",
       "      <td>1.0</td>\n",
       "      <td>0.978897</td>\n",
       "      <td>1.0</td>\n",
       "      <td>965</td>\n",
       "      <td>0.003150</td>\n",
       "      <td>2</td>\n",
       "    </tr>\n",
       "    <tr>\n",
       "      <th>2</th>\n",
       "      <td>0.605625</td>\n",
       "      <td>0.012520</td>\n",
       "      <td>631</td>\n",
       "      <td>0.0</td>\n",
       "      <td>0</td>\n",
       "      <td>0.99750</td>\n",
       "      <td>0.00250</td>\n",
       "      <td>1.002506</td>\n",
       "      <td>2.519685</td>\n",
       "      <td>0.061715</td>\n",
       "      <td>0.604637</td>\n",
       "      <td>1.0</td>\n",
       "      <td>0.922599</td>\n",
       "      <td>1.0</td>\n",
       "      <td>965</td>\n",
       "      <td>0.006299</td>\n",
       "      <td>4</td>\n",
       "    </tr>\n",
       "    <tr>\n",
       "      <th>3</th>\n",
       "      <td>0.606875</td>\n",
       "      <td>0.018721</td>\n",
       "      <td>629</td>\n",
       "      <td>0.0</td>\n",
       "      <td>0</td>\n",
       "      <td>0.99625</td>\n",
       "      <td>0.00375</td>\n",
       "      <td>1.003764</td>\n",
       "      <td>2.519685</td>\n",
       "      <td>0.075632</td>\n",
       "      <td>0.605395</td>\n",
       "      <td>1.0</td>\n",
       "      <td>0.896016</td>\n",
       "      <td>1.0</td>\n",
       "      <td>965</td>\n",
       "      <td>0.009449</td>\n",
       "      <td>6</td>\n",
       "    </tr>\n",
       "    <tr>\n",
       "      <th>4</th>\n",
       "      <td>0.611875</td>\n",
       "      <td>0.043143</td>\n",
       "      <td>621</td>\n",
       "      <td>0.0</td>\n",
       "      <td>0</td>\n",
       "      <td>0.99125</td>\n",
       "      <td>0.00875</td>\n",
       "      <td>1.008827</td>\n",
       "      <td>2.519685</td>\n",
       "      <td>0.115822</td>\n",
       "      <td>0.608449</td>\n",
       "      <td>1.0</td>\n",
       "      <td>0.837898</td>\n",
       "      <td>1.0</td>\n",
       "      <td>965</td>\n",
       "      <td>0.022047</td>\n",
       "      <td>14</td>\n",
       "    </tr>\n",
       "  </tbody>\n",
       "</table>\n",
       "</div>"
      ],
      "text/plain": [
       "   accuracy  f1_score  false_negative_score  false_positive_rate  \\\n",
       "0  0.603125  0.000000                   635                  0.0   \n",
       "1  0.604375  0.006279                   633                  0.0   \n",
       "2  0.605625  0.012520                   631                  0.0   \n",
       "3  0.606875  0.018721                   629                  0.0   \n",
       "4  0.611875  0.043143                   621                  0.0   \n",
       "\n",
       "   false_positive_score  fraction_predicted_as_negative  \\\n",
       "0                     0                         1.00000   \n",
       "1                     0                         0.99875   \n",
       "2                     0                         0.99750   \n",
       "3                     0                         0.99625   \n",
       "4                     0                         0.99125   \n",
       "\n",
       "   fraction_predicted_as_positive  lift_negative  lift_positive  \\\n",
       "0                         0.00000       1.000000       0.000000   \n",
       "1                         0.00125       1.001252       2.519685   \n",
       "2                         0.00250       1.002506       2.519685   \n",
       "3                         0.00375       1.003764       2.519685   \n",
       "4                         0.00875       1.008827       2.519685   \n",
       "\n",
       "   matthews_correlation_coefficient  negative_predictive_value  \\\n",
       "0                          0.000000                   0.603125   \n",
       "1                          0.043612                   0.603880   \n",
       "2                          0.061715                   0.604637   \n",
       "3                          0.075632                   0.605395   \n",
       "4                          0.115822                   0.608449   \n",
       "\n",
       "   positive_predictive_value  threshold  true_negative_rate  \\\n",
       "0                        0.0   1.000000                 1.0   \n",
       "1                        1.0   0.978897                 1.0   \n",
       "2                        1.0   0.922599                 1.0   \n",
       "3                        1.0   0.896016                 1.0   \n",
       "4                        1.0   0.837898                 1.0   \n",
       "\n",
       "   true_negative_score  true_positive_rate  true_positive_score  \n",
       "0                  965            0.000000                    0  \n",
       "1                  965            0.003150                    2  \n",
       "2                  965            0.006299                    4  \n",
       "3                  965            0.009449                    6  \n",
       "4                  965            0.022047                   14  "
      ]
     },
     "execution_count": 5,
     "metadata": {},
     "output_type": "execute_result"
    }
   ],
   "source": [
    "roc = model.get_roc_curve('validation')\n",
    "\n",
    "#Save the result into a pandas dataframe\n",
    "df = pd.DataFrame(roc.roc_points)\n",
    "df.head()"
   ]
  },
  {
   "cell_type": "markdown",
   "metadata": {},
   "source": [
    "#### Plotting ROC Curve"
   ]
  },
  {
   "cell_type": "code",
   "execution_count": 7,
   "metadata": {},
   "outputs": [
    {
     "data": {
      "text/plain": [
       "(0, 1)"
      ]
     },
     "execution_count": 7,
     "metadata": {},
     "output_type": "execute_result"
    },
    {
     "data": {
      "image/png": "[encoded data removed]",
      "text/plain": [
       "<Figure size 576x576 with 1 Axes>"
      ]
     },
     "metadata": {
      "needs_background": "light"
     },
     "output_type": "display_data"
    }
   ],
   "source": [
    "dr_roc_green = '#03c75f'\n",
    "white = '#ffffff'\n",
    "dr_purple = '#65147D'\n",
    "dr_dense_green = '#018f4f'\n",
    "dr_dark_blue = '#08233F'\n",
    "\n",
    "fig = plt.figure(figsize=(8, 8))\n",
    "axes = fig.add_subplot(1, 1, 1, facecolor=dr_dark_blue)\n",
    "\n",
    "plt.scatter(df.false_positive_rate, df.true_positive_rate, color=dr_roc_green)\n",
    "plt.plot(df.false_positive_rate, df.true_positive_rate, color=dr_roc_green)\n",
    "plt.plot([0, 1], [0, 1], color=white, alpha=0.25)\n",
    "plt.title('ROC curve')\n",
    "plt.xlabel('False Positive Rate (Fallout)')\n",
    "plt.xlim([0, 1])\n",
    "plt.ylabel('True Positive Rate (Sensitivity)')\n",
    "plt.ylim([0, 1])"
   ]
  },
  {
   "cell_type": "markdown",
   "metadata": {},
   "source": [
    "#### Threshold Operations"
   ]
  },
  {
   "cell_type": "markdown",
   "metadata": {},
   "source": [
    "You can get the recommended threshold value with maximal F1 score. That is the same threshold that is preselected in DataRobot when you open the “ROC curve” tab."
   ]
  },
  {
   "cell_type": "code",
   "execution_count": 8,
   "metadata": {},
   "outputs": [
    {
     "data": {
      "text/plain": [
       "0.3293589583674943"
      ]
     },
     "execution_count": 8,
     "metadata": {},
     "output_type": "execute_result"
    }
   ],
   "source": [
    "threshold = roc.get_best_f1_threshold()\n",
    "threshold"
   ]
  },
  {
   "cell_type": "markdown",
   "metadata": {},
   "source": [
    "You can also estimate metrics for different threshold values. This will produce the same results as updating the threshold on the DataRobot “ROC curve” tab."
   ]
  },
  {
   "cell_type": "code",
   "execution_count": 9,
   "metadata": {},
   "outputs": [
    {
     "data": {
      "text/plain": [
       "{'accuracy': 0.609375,\n",
       " 'f1_score': 0.6144355336212215,\n",
       " 'false_negative_score': 137,\n",
       " 'true_negative_score': 477,\n",
       " 'true_positive_score': 498,\n",
       " 'false_positive_score': 488,\n",
       " 'true_negative_rate': 0.49430051813471504,\n",
       " 'false_positive_rate': 0.505699481865285,\n",
       " 'true_positive_rate': 0.784251968503937,\n",
       " 'matthews_correlation_coefficient': 0.28024309200601993,\n",
       " 'positive_predictive_value': 0.5050709939148073,\n",
       " 'negative_predictive_value': 0.7768729641693811,\n",
       " 'threshold': 0.3293589583674943,\n",
       " 'fraction_predicted_as_positive': 0.61625,\n",
       " 'fraction_predicted_as_negative': 0.38375000000000004,\n",
       " 'lift_positive': 1.272619827186916,\n",
       " 'lift_negative': 1.288079526083948}"
      ]
     },
     "execution_count": 9,
     "metadata": {},
     "output_type": "execute_result"
    }
   ],
   "source": [
    "metrics = roc.estimate_threshold(threshold)\n",
    "metrics"
   ]
  }
 ],
 "metadata": {
  "kernelspec": {
   "display_name": "Python 3",
   "language": "python",
   "name": "python3"
  },
  "language_info": {
   "codemirror_mode": {
    "name": "ipython",
    "version": 3
   },
   "file_extension": ".py",
   "mimetype": "text/x-python",
   "name": "python",
   "nbconvert_exporter": "python",
   "pygments_lexer": "ipython3",
   "version": "3.7.3"
  }
 },
 "nbformat": 4,
 "nbformat_minor": 2
}
