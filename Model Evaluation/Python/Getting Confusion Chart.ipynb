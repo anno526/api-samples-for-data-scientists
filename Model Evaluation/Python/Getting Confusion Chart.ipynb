{
 "cells": [
  {
   "cell_type": "markdown",
   "metadata": {},
   "source": [
    "## Getting Confusion Chart"
   ]
  },
  {
   "cell_type": "markdown",
   "metadata": {},
   "source": [
    "### Scope\n",
    "The scope of this notebook is to provide instructions on how to get the Confusion Matrix Chart using the Python API. The Code below will work **only for Multiclass Classification Projects**. For Binary Classification Projects, use the <code>get_roc_curve</code> command.\n",
    "\n",
    "### Background\n",
    "\n",
    "The confusion matrix for a multiclass classification project will be a 𝑁×𝑁 matrix, with the left axis showing the true class of an observation and the top axis showing the class assigned to the observation by the model. Each element 𝑖,𝑗 of the matrix would be the number of items with true class 𝑖 that were classified as being in class 𝑗.\n",
    "\n",
    "Some important definitions: \n",
    "\n",
    "**F1**: The F1 score for each class.\n",
    "\n",
    "**Precision**: The precision statistic for each class.\n",
    "\n",
    "**Recall**: The recall statistic for each class.\n",
    "\n",
    "**Actual Count**: The number of records for each class that actually are that class.\n",
    "\n",
    "**Predicted Count**: The number of times each class was predicted.\n",
    "\n",
    "### Requirements\n",
    "\n",
    "- Python version 3.7.3\n",
    "-  DataRobot API version 2.19.0. \n",
    "Small adjustments might be needed depending on the Python version and DataRobot API version you are using.\n",
    "\n",
    "Full documentation of the Python package can be found here: https://datarobot-public-api-client.readthedocs-hosted.com/en/\n",
    "\n",
    "It is assumed you already have a DataRobot <code>Project</code> object and a DataRobot <code>Model</code> object."
   ]
  },
  {
   "cell_type": "markdown",
   "metadata": {},
   "source": [
    "#### Import Libraries"
   ]
  },
  {
   "cell_type": "code",
   "execution_count": 3,
   "metadata": {},
   "outputs": [],
   "source": [
    "import datarobot as dr"
   ]
  },
  {
   "cell_type": "markdown",
   "metadata": {},
   "source": [
    "#### Requesting Confusion Chart Data"
   ]
  },
  {
   "cell_type": "code",
   "execution_count": 12,
   "metadata": {
    "scrolled": false
   },
   "outputs": [
    {
     "data": {
      "text/plain": [
       "{'classes': ['0.0', '1.0', '2.0'],\n",
       " 'confusion_matrix': [[9, 0, 0], [0, 4, 1], [0, 0, 10]],\n",
       " 'class_metrics': [{'class_name': '0.0',\n",
       "   'actual_count': 9,\n",
       "   'predicted_count': 9,\n",
       "   'f1': 1.0,\n",
       "   'recall': 1.0,\n",
       "   'precision': 1.0,\n",
       "   'confusion_matrix_one_vs_all': [[15, 0], [0, 9]],\n",
       "   'was_actual_percentages': [{'other_class_name': '0.0', 'percentage': 1.0},\n",
       "    {'other_class_name': '1.0', 'percentage': 0.0},\n",
       "    {'other_class_name': '2.0', 'percentage': 0.0}],\n",
       "   'was_predicted_percentages': [{'other_class_name': '0.0',\n",
       "     'percentage': 1.0},\n",
       "    {'other_class_name': '1.0', 'percentage': 0.0},\n",
       "    {'other_class_name': '2.0', 'percentage': 0.0}]},\n",
       "  {'class_name': '1.0',\n",
       "   'actual_count': 5,\n",
       "   'predicted_count': 4,\n",
       "   'f1': 0.888888888888889,\n",
       "   'recall': 0.8,\n",
       "   'precision': 1.0,\n",
       "   'confusion_matrix_one_vs_all': [[19, 0], [1, 4]],\n",
       "   'was_actual_percentages': [{'other_class_name': '0.0', 'percentage': 0.0},\n",
       "    {'other_class_name': '1.0', 'percentage': 0.8},\n",
       "    {'other_class_name': '2.0', 'percentage': 0.2}],\n",
       "   'was_predicted_percentages': [{'other_class_name': '0.0',\n",
       "     'percentage': 0.0},\n",
       "    {'other_class_name': '1.0', 'percentage': 1.0},\n",
       "    {'other_class_name': '2.0', 'percentage': 0.0}]},\n",
       "  {'class_name': '2.0',\n",
       "   'actual_count': 10,\n",
       "   'predicted_count': 11,\n",
       "   'f1': 0.9523809523809523,\n",
       "   'recall': 1.0,\n",
       "   'precision': 0.909090909090909,\n",
       "   'confusion_matrix_one_vs_all': [[13, 1], [0, 10]],\n",
       "   'was_actual_percentages': [{'other_class_name': '0.0', 'percentage': 0.0},\n",
       "    {'other_class_name': '1.0', 'percentage': 0.0},\n",
       "    {'other_class_name': '2.0', 'percentage': 1.0}],\n",
       "   'was_predicted_percentages': [{'other_class_name': '0.0',\n",
       "     'percentage': 0.0},\n",
       "    {'other_class_name': '1.0', 'percentage': 0.09090909090909091},\n",
       "    {'other_class_name': '2.0', 'percentage': 0.9090909090909091}]}]}"
      ]
     },
     "execution_count": 12,
     "metadata": {},
     "output_type": "execute_result"
    }
   ],
   "source": [
    "cc = model.get_confusion_chart(source='validation')\n",
    "cc.raw_data"
   ]
  }
 ],
 "metadata": {
  "kernelspec": {
   "display_name": "Python 3",
   "language": "python",
   "name": "python3"
  },
  "language_info": {
   "codemirror_mode": {
    "name": "ipython",
    "version": 3
   },
   "file_extension": ".py",
   "mimetype": "text/x-python",
   "name": "python",
   "nbconvert_exporter": "python",
   "pygments_lexer": "ipython3",
   "version": "3.7.3"
  }
 },
 "nbformat": 4,
 "nbformat_minor": 2
}
