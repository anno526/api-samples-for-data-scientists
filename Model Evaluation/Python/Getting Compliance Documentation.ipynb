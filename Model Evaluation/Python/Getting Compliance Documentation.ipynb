{
 "cells": [
  {
   "cell_type": "markdown",
   "metadata": {},
   "source": [
    "## Getting Compliance Documentation"
   ]
  },
  {
   "cell_type": "markdown",
   "metadata": {},
   "source": [
    "### Scope\n",
    "The scope of this notebook is to provide instructions on how to get Compliance Documentation documents using the Python API.\n",
    "\n",
    "### Background\n",
    "Compliance documentation is a premium add-on product to DataRobot. It allows users to automatically generate and download documentation to assist with deploying models in highly regulated industries.\n",
    "\n",
    "### Requirements\n",
    "\n",
    "- Python version 3.7.3\n",
    "-  DataRobot API version 2.19.0. \n",
    "Small adjustments might be needed depending on the Python version and DataRobot API version you are using.\n",
    "\n",
    "Full documentation of the Python package can be found here: https://datarobot-public-api-client.readthedocs-hosted.com/en/\n",
    "\n",
    "It is assumed you already have a DataRobot <code>Project</code> object and a DataRobot <code>Model</code> object."
   ]
  },
  {
   "cell_type": "markdown",
   "metadata": {},
   "source": [
    "#### Import Libraries"
   ]
  },
  {
   "cell_type": "code",
   "execution_count": null,
   "metadata": {},
   "outputs": [],
   "source": [
    "import datarobot as dr"
   ]
  },
  {
   "cell_type": "markdown",
   "metadata": {},
   "source": [
    "#### Downloading Compliance Documentation\n",
    "To download compliance documentation for a particular model, call <code>ComplianceDocumentation</code> on a particular project and model.  Next generate the documenation and save it to the path of your preference. Note that it downloads in DOCX format."
   ]
  },
  {
   "cell_type": "code",
   "execution_count": null,
   "metadata": {},
   "outputs": [],
   "source": [
    "# Using the default template\n",
    "doc = dr.ComplianceDocumentation(project.id, model.id)\n",
    "\n",
    "# Start a job to generate documentation\n",
    "job = doc.generate()\n",
    "\n",
    "# Once the job is complete, download as a DOCX\n",
    "job.wait_for_completion()\n",
    "doc.download('/path/to/save')"
   ]
  },
  {
   "cell_type": "markdown",
   "metadata": {},
   "source": [
    "### Creating a Custom Template\n",
    "You can also use your own custom compliance documentation templates.\n",
    "\n",
    "#### The Default Template\n",
    "First, let’s get the default template. This can be done just by using <code>ComplianceDocTemplate</code>. It downloads as a JSON file."
   ]
  },
  {
   "cell_type": "code",
   "execution_count": null,
   "metadata": {},
   "outputs": [],
   "source": [
    "GetComplianceDocTemplate(\"path/to/filename.json\")\n",
    "default_template = dr.ComplianceDocTemplate.get_default()"
   ]
  },
  {
   "cell_type": "markdown",
   "metadata": {},
   "source": [
    "#### Updating the Default Template\n",
    "A common workflow for building your own template is downloading the default template and modifying it."
   ]
  },
  {
   "cell_type": "code",
   "execution_count": null,
   "metadata": {},
   "outputs": [],
   "source": [
    "# Download the template and edit sections on your local machine\n",
    "default_template.sections_to_json_file('path/to/save')\n",
    "\n",
    "# Create a new template from your local file\n",
    "my_template = dr.ComplianceDocTemplate.create_from_json_file(name='my_template', path='path/of/file')"
   ]
  },
  {
   "cell_type": "markdown",
   "metadata": {},
   "source": [
    "Alternatively, custom templates can also be created from scratch."
   ]
  },
  {
   "cell_type": "code",
   "execution_count": null,
   "metadata": {},
   "outputs": [],
   "source": [
    "sections = [{\n",
    "            'title': 'Missing Values Report',\n",
    "            'highlightedText': 'NOTICE',\n",
    "            'regularText': 'This dataset had a lot of Missing Values. See the chart below: {{missing_values}}',\n",
    "            'type': 'user'\n",
    "            },\n",
    "            {\n",
    "            'title': 'Blueprints',\n",
    "            'highlightedText': '',\n",
    "            'regularText': '{{blueprint_diagram}} /n Blueprint for this model'\n",
    "            'type': 'user'\n",
    "            }]\n",
    "template = dr.ComplianceDocTemplate.create(name='Example', sections=sections)"
   ]
  },
  {
   "cell_type": "markdown",
   "metadata": {},
   "source": [
    "You can then get and download your template:"
   ]
  },
  {
   "cell_type": "code",
   "execution_count": null,
   "metadata": {},
   "outputs": [],
   "source": [
    "# Specify the template_id to generate documentation using a custom template\n",
    "doc = dr.ComplianceDocumentation(project.id, model.id, template.id)\n",
    "job = doc.generate().wait_for_completion()\n",
    "doc.download('/path/to/save')"
   ]
  }
 ],
 "metadata": {
  "kernelspec": {
   "display_name": "Python 3",
   "language": "python",
   "name": "python3"
  },
  "language_info": {
   "codemirror_mode": {
    "name": "ipython",
    "version": 3
   },
   "file_extension": ".py",
   "mimetype": "text/x-python",
   "name": "python",
   "nbconvert_exporter": "python",
   "pygments_lexer": "ipython3",
   "version": "3.7.3"
  }
 },
 "nbformat": 4,
 "nbformat_minor": 2
}
