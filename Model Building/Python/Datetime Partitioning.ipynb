{
 "cells": [
  {
   "cell_type": "markdown",
   "metadata": {},
   "source": [
    "## Datetime Partitioning"
   ]
  },
  {
   "cell_type": "markdown",
   "metadata": {},
   "source": [
    "### Scope\n",
    "\n",
    "The scope of this notebook is to provide instructions on how to do datetime partitioning using the Python API.\n",
    "\n",
    "### Background\n",
    "\n",
    "When dividing your data for model training and validation, DataRobot will randomly choose a set of rows from your dataset to assign amongst different cross validation folds. This will verify that you have not overfit your model to the training set and that the model can perform well on new data. However when your data has an intrinsic time based component, then you have to be even more careful about target leakage.  DataRobot now posseses datetime partitioning which will be diligent within model training & validation to guard against this, but you should always use your domain exerptise to evaluate your features prior to modeling.\n",
    "\n",
    "Let’s look at how we would frame a problem with a time component within DataRobot. This project basically simulated what you would get if you tried \"Out of Time Validation\" within DataRobot interface which is **not the same as Time Series projects**, even though the way we define backtests is very similar.\n",
    "\n",
    "### Requirements\n",
    "\n",
    "- Python version 3.7.3\n",
    "-  DataRobot API version 2.19.0. \n",
    "Small adjustments might be needed depending on the Python version and DataRobot API version you are using.\n",
    "\n",
    "Full documentation of the Python package can be found here: https://datarobot-public-api-client.readthedocs-hosted.com/en/\n",
    "\n",
    "It is assumed you already have a DataRobot <code>Project</code> object and a DataRobot <code>Model </code> object."
   ]
  },
  {
   "cell_type": "markdown",
   "metadata": {},
   "source": [
    "#### Import Libraries"
   ]
  },
  {
   "cell_type": "code",
   "execution_count": null,
   "metadata": {},
   "outputs": [],
   "source": [
    "import datarobot as dr"
   ]
  },
  {
   "cell_type": "markdown",
   "metadata": {},
   "source": [
    "#### Running a DataRobot Project with a datetime partition"
   ]
  },
  {
   "cell_type": "code",
   "execution_count": null,
   "metadata": {},
   "outputs": [],
   "source": [
    "spec = dr.DatetimePartitioningSpecification('date_column')\n",
    "\n",
    "#Set number of backetsts\n",
    "spec.number_of_backtests = 5\n",
    "\n",
    "#Setting the target will also initiate the project\n",
    "project.set_target('target', partitioning_method=spec)"
   ]
  },
  {
   "cell_type": "markdown",
   "metadata": {},
   "source": [
    "We took advantage of DataRobot’s automated partition date selection after we specified the number of backtests to use. DataRobot allows further control, where we can further specify the validation start date as well as duration. Let’s look at an example below."
   ]
  },
  {
   "cell_type": "markdown",
   "metadata": {},
   "source": [
    "#### Create Backtest Specifications"
   ]
  },
  {
   "cell_type": "code",
   "execution_count": null,
   "metadata": {},
   "outputs": [],
   "source": [
    "# Dates are not project specific but rather example dates\n",
    "dr.BacktestSpecification(1,gap_duration = 1,validation_start_date = \"1999-12-01\", validation_duration = 100)\n",
    "dr.BacktestSpecification(2,gap_duration = 1,validation_start_date = \"1999-12-01\", validation_duration = 100)"
   ]
  },
  {
   "cell_type": "markdown",
   "metadata": {},
   "source": [
    "The above methods will change the backtest specification for the first and second backtest."
   ]
  },
  {
   "cell_type": "code",
   "execution_count": null,
   "metadata": {},
   "outputs": [],
   "source": []
  }
 ],
 "metadata": {
  "kernelspec": {
   "display_name": "Python 3",
   "language": "python",
   "name": "python3"
  },
  "language_info": {
   "codemirror_mode": {
    "name": "ipython",
    "version": 3
   },
   "file_extension": ".py",
   "mimetype": "text/x-python",
   "name": "python",
   "nbconvert_exporter": "python",
   "pygments_lexer": "ipython3",
   "version": "3.7.3"
  }
 },
 "nbformat": 4,
 "nbformat_minor": 2
}
