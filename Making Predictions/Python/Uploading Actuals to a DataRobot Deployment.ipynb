{
 "cells": [
  {
   "cell_type": "markdown",
   "metadata": {},
   "source": [
    "## Uploading Actuals to a DataRobot Deployment"
   ]
  },
  {
   "cell_type": "markdown",
   "metadata": {},
   "source": [
    "### Scope\n",
    "The scope of this notebook is to provide instructions on how to upload actuals into the DataRobot platform in order to calculate accuracy metrics.\n",
    "\n",
    "### Requirements\n",
    "\n",
    "- Python version 3.7.3\n",
    "-  DataRobot API version 2.19.0. \n",
    "Small adjustments might be needed depending on the Python version and DataRobot API version you are using.\n",
    "\n",
    "Full documentation of the Python package can be found here: https://datarobot-public-api-client.readthedocs-hosted.com/en/\n",
    "\n",
    "It is assumed you already have a deployed model and you know the id of the deployment."
   ]
  },
  {
   "cell_type": "markdown",
   "metadata": {},
   "source": [
    "#### Import Libraries"
   ]
  },
  {
   "cell_type": "code",
   "execution_count": 25,
   "metadata": {},
   "outputs": [],
   "source": [
    "import datarobot as dr\n",
    "import pandas as pd"
   ]
  },
  {
   "cell_type": "markdown",
   "metadata": {},
   "source": [
    "#### Data Structure\n",
    "The data that will be uploaded should have the below format:\n",
    "\n",
    "| association_id | actual_value |\n",
    "|----------------|--------------|\n",
    "| ΑΑΑ            | 0            |\n",
    "| AAB            | 1            |\n",
    "| AAC            | 0            |\n",
    "| AAD            | 0            |\n",
    "| AAE            | 0            |\n",
    "| AAF            | 1            |\n",
    "| AAG            | 1            |\n",
    "| AAH            | 0            |\n",
    "\n",
    "With the **exact** column names."
   ]
  },
  {
   "cell_type": "markdown",
   "metadata": {},
   "source": [
    "#### Uploading data\n",
    "We will be using the <code>submit_actuals</code> method of the DataRobot <code>deployment</code> object to upload the actuals into the platform. DataRobot will calculate accuracy using the predicted values and the actual values just uploaded.\n",
    "\n",
    "Fill in the deployment of your model"
   ]
  },
  {
   "cell_type": "code",
   "execution_count": null,
   "metadata": {},
   "outputs": [],
   "source": [
    "deployment_id = 'YOUR_DEPLOYMENT_ID'\n",
    "actuals = pd.read_csv('.path_to_file/file.csv')\n",
    "\n",
    "deployment = dr.Deployment.get(deployment_id=deployment_id)\n",
    "deployment.submit_actuals(actuals)"
   ]
  }
 ],
 "metadata": {
  "kernelspec": {
   "display_name": "Python 3",
   "language": "python",
   "name": "python3"
  },
  "language_info": {
   "codemirror_mode": {
    "name": "ipython",
    "version": 3
   },
   "file_extension": ".py",
   "mimetype": "text/x-python",
   "name": "python",
   "nbconvert_exporter": "python",
   "pygments_lexer": "ipython3",
   "version": "3.7.3"
  }
 },
 "nbformat": 4,
 "nbformat_minor": 2
}
