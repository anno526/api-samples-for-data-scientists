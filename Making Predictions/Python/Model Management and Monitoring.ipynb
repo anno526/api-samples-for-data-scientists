{
 "cells": [
  {
   "cell_type": "markdown",
   "metadata": {},
   "source": [
    "## Model Management and Monitoring"
   ]
  },
  {
   "cell_type": "markdown",
   "metadata": {},
   "source": [
    "### Scope\n",
    "\n",
    "The scope of this notebook is to provide instructions on how to do manage models through the Python API. This includes deployment, replacement, deletion, and monitoring capabilities.\n",
    "\n",
    "### Background\n",
    "\n",
    "Deployment is the central hub for users to deploy, manage and monitor their models. The following commands can be used to manage deployments.\n",
    "\n",
    "### Requirements\n",
    "\n",
    "- Python version 3.7.3\n",
    "-  DataRobot API version 2.19.0. \n",
    "Small adjustments might be needed depending on the Python version and DataRobot API version you are using.\n",
    "\n",
    "Full documentation of the Python package can be found here: https://datarobot-public-api-client.readthedocs-hosted.com/en/\n",
    "\n",
    "It is assumed you already have a DataRobot <code>Project</code> object and a DataRobot <code>Model </code> object."
   ]
  },
  {
   "cell_type": "markdown",
   "metadata": {},
   "source": [
    "#### Import Libraries"
   ]
  },
  {
   "cell_type": "code",
   "execution_count": null,
   "metadata": {},
   "outputs": [],
   "source": [
    "import datarobot as dr"
   ]
  },
  {
   "cell_type": "markdown",
   "metadata": {},
   "source": [
    "#### Create a Deployment\n",
    "\n",
    "When creating a new deployment, a DataRobot model_id and label must be provided. A description can be optionally provided to document the purpose of the deployment.\n",
    "\n",
    "The default prediction server is used when making predictions against the deployment, and is a requirement for creating a deployment on DataRobot cloud. For on-prem installations, a user must not provide a default prediction server and a pre-configured prediction server will be used instead. Refer to ListPredictionServers for more information on retrieving available prediction servers."
   ]
  },
  {
   "cell_type": "code",
   "execution_count": null,
   "metadata": {},
   "outputs": [],
   "source": [
    "prediction_server = dr.PredictionServer.list()[0]\n",
    "\n",
    "deployment = dr.Deployment.create_from_learning_model(\n",
    "    model.id, label='New Deployment', description='A new deployment',\n",
    "    default_prediction_server_id=prediction_server.id)\n",
    "deployment"
   ]
  },
  {
   "cell_type": "markdown",
   "metadata": {},
   "source": [
    "### List Deployments\n",
    "Use the following command to list deployments that are available."
   ]
  },
  {
   "cell_type": "code",
   "execution_count": null,
   "metadata": {},
   "outputs": [],
   "source": [
    "deployments = dr.Deployment.list()\n",
    "deployments"
   ]
  },
  {
   "cell_type": "markdown",
   "metadata": {},
   "source": [
    "### Retrieve a Deployment\n",
    "It is possible to retrieve a single deployment with its identifier, rather than list all deployments."
   ]
  },
  {
   "cell_type": "code",
   "execution_count": null,
   "metadata": {},
   "outputs": [],
   "source": [
    "deployment = dr.Deployment.get(deployment_id='') #Fill in the id of your own deployment id"
   ]
  },
  {
   "cell_type": "markdown",
   "metadata": {},
   "source": [
    "#### Update a Deployment\n",
    "Deployment’s label and description can be updated."
   ]
  },
  {
   "cell_type": "code",
   "execution_count": null,
   "metadata": {},
   "outputs": [],
   "source": [
    "deployment = dr.Deployment.get(deployment_id='YOUR_DEPLOYMENT_ID') #Fill in the id of your own deployment id\n",
    "deployment.update(label='new label')"
   ]
  },
  {
   "cell_type": "markdown",
   "metadata": {},
   "source": [
    "#### Delete a Deployment\n",
    "To mark a deployment as deleted, use the following command."
   ]
  },
  {
   "cell_type": "code",
   "execution_count": null,
   "metadata": {},
   "outputs": [],
   "source": [
    "deployment = dr.Deployment.get(deployment_id='YOUR_DEPLOYMENT_ID') #Fill in the id of your own deployment id\n",
    "deployment.delete()"
   ]
  },
  {
   "cell_type": "markdown",
   "metadata": {},
   "source": [
    "#### Model Replacement\n",
    "The model of a deployment can be replaced effortlessly with zero interruption of predictions.\n",
    "Model replacement is an asynchronous process, which means there are some preparatory works to complete before the process is fully finished. However, predictions made against this deployment will start using the new model as soon as you initiate the process. The <code>replace_model()</code> function won’t return until this asynchronous process is fully finished.\n",
    "Alongside the identifier of the new model, a reason is also required. The reason is stored in model history of the deployment for bookkeeping purpose. An enum <code>MODEL_REPLACEMENT_REASON</code> is provided for convenience, all possible values are documented below:\n",
    "\n",
    "\n",
    "- MODEL_REPLACEMENT_REASON.ACCURACY\n",
    "- MODEL_REPLACEMENT_REASON.DATA_DRIFT\n",
    "- MODEL_REPLACEMENT_REASON.ERRORS\n",
    "- MODEL_REPLACEMENT_REASON.SCHEDULED_REFRESH\n",
    "- MODEL_REPLACEMENT_REASON.SCORING_SPEED\n",
    "- MODEL_REPLACEMENT_REASON.OTHER\n",
    "\n",
    "Here is an example of model replacement:"
   ]
  },
  {
   "cell_type": "code",
   "execution_count": null,
   "metadata": {},
   "outputs": [],
   "source": [
    "deployment = Deployment.get(deployment_id='YOUR_DEPLOYMENT_ID') #Fill in the id of your own deployment id\n",
    "deployment.model['id'], deployment.model['type']\n",
    "\n",
    "deployment.replace_model('YOUR_MODEL_ID', MODEL_REPLACEMENT_REASON.ACCURACY) #Fill in with id of model\n",
    "deployment.model['id'], deployment.model['type']"
   ]
  },
  {
   "cell_type": "markdown",
   "metadata": {},
   "source": [
    "#### Validation - Before Replacement\n",
    "Before initiating the model replacement request, it is usually a good idea to use the <code>validate_replacement_model()</code> function to validate if the new model can be used as a replacement.\n",
    "\n",
    "The <code>validate_replacement_model()</code> function returns the validation status, a message and a checks dictionary. If the status is ‘passing’ or ‘warning’, use <code>replace_model()</code> to perform model the replacement. If status is ‘failing’, refer to the checks dictionary for more details on why the new model cannot be used as a replacement.\n"
   ]
  },
  {
   "cell_type": "code",
   "execution_count": null,
   "metadata": {},
   "outputs": [],
   "source": [
    "deployment = dr.Deployment.get(deployment_id='YOUR_DEPLOYMENT_ID')\n",
    "status, message, checks = deployment.validate_replacement_model(new_model_id=model.id)\n",
    "status\n",
    "\n",
    "# `checks` can be inspected for detail, showing two examples here:\n",
    "checks['target']\n",
    "checks['permission']"
   ]
  },
  {
   "cell_type": "markdown",
   "metadata": {},
   "source": [
    "#### Monitoring\n",
    "Deployment monitoring can be categorized into several area of concerns:\n",
    "\n",
    "- Service Stats & Service Stats Over Time\n",
    "- Accuracy & Accuracy Over Time\n",
    "\n",
    "With a Deployment object, get functions are provided to allow querying of the monitoring data. Alternatively, it is also possible to retrieve monitoring data directly using a deployment ID. For example:\n"
   ]
  },
  {
   "cell_type": "code",
   "execution_count": null,
   "metadata": {},
   "outputs": [],
   "source": [
    "from datarobot.models import Deployment, ServiceStats\n",
    "\n",
    "deployment_id = 'YOUR_DEPLOYMENT_ID'\n",
    "\n",
    "# call `get` functions on a `Deployment` object\n",
    "deployment = Deployment.get(deployment_id)\n",
    "service_stats = deployment.get_service_stats()\n",
    "\n",
    "# directly fetch without a `Deployment` object\n",
    "service_stats = ServiceStats.get(deployment_id)"
   ]
  },
  {
   "cell_type": "markdown",
   "metadata": {},
   "source": [
    "When querying monitoring data, a start and end time can be optionally provided, will accept either a datetime object or a string. Note that only top of the hour datetimes are accepted, for example: 2019-08-01T00:00:00Z. By default, the end time of the query will be the next top of the hour, the start time will be 7 days before the end time.\n",
    "\n",
    "In the over time variants, an optional bucket_size can be provided to specify the resolution of time buckets. For example, if start time is 2019-08-01T00:00:00Z, end time is 2019-08-02T00:00:00Z and bucket_size is T1H, then 24 time buckets will be generated, each providing data calculated over one hour. Use construct_duration_string() to help construct a bucket size string."
   ]
  }
 ],
 "metadata": {
  "kernelspec": {
   "display_name": "Python 3",
   "language": "python",
   "name": "python3"
  },
  "language_info": {
   "codemirror_mode": {
    "name": "ipython",
    "version": 3
   },
   "file_extension": ".py",
   "mimetype": "text/x-python",
   "name": "python",
   "nbconvert_exporter": "python",
   "pygments_lexer": "ipython3",
   "version": "3.7.3"
  }
 },
 "nbformat": 4,
 "nbformat_minor": 2
}
