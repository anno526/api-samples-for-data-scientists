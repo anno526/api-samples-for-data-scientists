{
 "cells": [
  {
   "cell_type": "markdown",
   "metadata": {},
   "source": [
    "![title](media/DataRobot.png)"
   ]
  },
  {
   "cell_type": "markdown",
   "metadata": {},
   "source": [
    "### DataRobot provides R and Python package to access different functionalities in the API\n",
    "1 - Project   \n",
    "2 - Model             \n",
    "3 - Retraining    \n",
    "4- Predicting\n",
    "\n",
    "Full documentation of the R package can be found here: https://cran.r-project.org/web/packages/datarobot/index.html\n",
    "\n",
    "The dataset we will be using today, is the well-known \"readmissions dataset\". You can also find it online but it will also be available when you download this notebook."
   ]
  },
  {
   "cell_type": "markdown",
   "metadata": {},
   "source": [
    "## Getting started\n",
    "You can install datarobot using install.packages command from any computer with internet access! "
   ]
  },
  {
   "cell_type": "code",
   "execution_count": null,
   "metadata": {},
   "outputs": [],
   "source": [
    "install.packages('datarobot')\n",
    "\n",
    "#require(devtools)\n",
    "#install_version(\"datarobot\", version = \"2.16.0\", repos = \"http://cran.us.r-project.org\")"
   ]
  },
  {
   "cell_type": "markdown",
   "metadata": {},
   "source": [
    "### Loading the libraries"
   ]
  },
  {
   "cell_type": "code",
   "execution_count": null,
   "metadata": {},
   "outputs": [],
   "source": [
    "library(datarobot)\n",
    "library(ggplot2)\n",
    "library(reshape2)\n",
    "library(MLmetrics)"
   ]
  },
  {
   "cell_type": "markdown",
   "metadata": {},
   "source": [
    "### Credentials\n",
    "To access the DataRobot API user need to connect to it. To make sure authorize users are accessing the DataRobot API user need to use their username, password or API token.\n",
    "You also need to ensure your \"API Access\" configuration is ON (please ask your administrator if not).\n",
    "\n",
    "To find your API Token, visit <code>YOUR_API_HOST</code>, log in and follow the instructions below:"
   ]
  },
  {
   "cell_type": "markdown",
   "metadata": {},
   "source": [
    "![title](media/credentials_1.png)"
   ]
  },
  {
   "cell_type": "markdown",
   "metadata": {},
   "source": [
    "![title](media/credentials_2.png)"
   ]
  },
  {
   "cell_type": "markdown",
   "metadata": {},
   "source": [
    "![title](media/credentials_3.png)"
   ]
  },
  {
   "cell_type": "code",
   "execution_count": null,
   "metadata": {},
   "outputs": [],
   "source": [
    "ConnectToDataRobot(endpoint = \"YOUR_DATAROBOT_HOST\", \n",
    "                   token = \"YOUR_API_KEY\")\n"
   ]
  },
  {
   "cell_type": "code",
   "execution_count": null,
   "metadata": {},
   "outputs": [],
   "source": [
    "readmissions = read.csv(\"data/10k_diabetes_training.csv\")"
   ]
  },
  {
   "cell_type": "code",
   "execution_count": null,
   "metadata": {
    "scrolled": true
   },
   "outputs": [],
   "source": [
    "head(readmissions)"
   ]
  },
  {
   "cell_type": "code",
   "execution_count": null,
   "metadata": {},
   "outputs": [],
   "source": [
    "project <- StartProject(dataSource = readmissions,\n",
    "                        projectName = \"Readmission\",\n",
    "                        target = \"readmitted\",\n",
    "                        workerCount = -1, #-1 = max worker count\n",
    "                        wait = TRUE)"
   ]
  },
  {
   "cell_type": "markdown",
   "metadata": {},
   "source": [
    "### Interacting with autopilot"
   ]
  },
  {
   "cell_type": "code",
   "execution_count": null,
   "metadata": {},
   "outputs": [],
   "source": [
    "PauseQueue(project) #Pause project\n",
    "UnpauseQueue(project) #Unpause project\n",
    "WaitForAutopilot(project, checkInterval = 20, timeout = NULL, verbosity = 1) #Wait for autopilot to complete"
   ]
  },
  {
   "cell_type": "code",
   "execution_count": null,
   "metadata": {},
   "outputs": [],
   "source": [
    "initialJobs <- ListModelJobs(project) #  This gets the currently inprogress and queued jobs"
   ]
  },
  {
   "cell_type": "markdown",
   "metadata": {},
   "source": [
    "### Pick another project"
   ]
  },
  {
   "cell_type": "markdown",
   "metadata": {},
   "source": [
    "### Where to find the project ID?\n",
    "![title](media/model_id.png)"
   ]
  },
  {
   "cell_type": "markdown",
   "metadata": {},
   "source": [
    "### What if I don't want to use my browser"
   ]
  },
  {
   "cell_type": "code",
   "execution_count": null,
   "metadata": {},
   "outputs": [],
   "source": [
    "#Print id's and names of first 5 projects\n",
    "ListProjects()$projectId[1:5]\n",
    "ListProjects()$projectName[1:5]"
   ]
  },
  {
   "cell_type": "code",
   "execution_count": null,
   "metadata": {},
   "outputs": [],
   "source": [
    "#Choose another project\n",
    "another_project <-GetProject(\"YOUR_PROJECT_ID\")"
   ]
  },
  {
   "cell_type": "markdown",
   "metadata": {},
   "source": [
    "### Take a look at finished models"
   ]
  },
  {
   "cell_type": "code",
   "execution_count": null,
   "metadata": {
    "scrolled": true
   },
   "outputs": [],
   "source": [
    "#Get names of top 15 models\n",
    "for(i in 1:15){\n",
    "    print(ListModels(project)[[i]]$modelType)\n",
    "}"
   ]
  },
  {
   "cell_type": "code",
   "execution_count": null,
   "metadata": {},
   "outputs": [],
   "source": [
    "#Pick best model\n",
    "best_model <- GetRecommendedModel(project, type = \"Recommended for Deployment\")\n",
    "\n",
    "#Print accuracy metrics for the best model\n",
    "print(best_model$metrics$AUC)\n",
    "print(best_model$metrics$`Gini Norm`)"
   ]
  },
  {
   "cell_type": "code",
   "execution_count": null,
   "metadata": {},
   "outputs": [],
   "source": [
    "#Plot ROC Curve\n",
    "roc_data <- GetRocCurve(best_model, source = DataPartition$VALIDATION)\n",
    "\n",
    "ggplot(roc_data$rocPoints, aes(x = falsePositiveRate, y = truePositiveRate)) + \n",
    "  geom_point(color = \"green\") + xlab(\"False Positive Rate (Fallout)\") + ylab(\"True Positive Rate (Sensitivity)\") + \n",
    "  theme_dark() + \n",
    "  annotate(\"text\", x = .75, y = .25, color = \"white\", \n",
    "           label = paste(\"AUC =\", round(Area_Under_Curve(roc_data$rocPoints$falsePositiveRate, \n",
    "                                                         roc_data$rocPoints$truePositiveRate), 4)))"
   ]
  },
  {
   "cell_type": "markdown",
   "metadata": {},
   "source": [
    "### Plotting Feature Impact"
   ]
  },
  {
   "cell_type": "code",
   "execution_count": null,
   "metadata": {},
   "outputs": [],
   "source": [
    "feature_impact <- GetFeatureImpact(best_model)\n",
    "\n",
    "ggplot(data = feature_impact, aes(x = reorder(featureName, impactNormalized), y = impactNormalized)) + \n",
    "  geom_bar(stat = \"identity\") + coord_flip() + ylab(\"Effect\") + xlab(\"\") +\n",
    "  scale_y_continuous(labels = function(x){ paste0(x*100, \"%\") })"
   ]
  },
  {
   "cell_type": "markdown",
   "metadata": {},
   "source": [
    "### Train on 100% of Data"
   ]
  },
  {
   "cell_type": "code",
   "execution_count": null,
   "metadata": {},
   "outputs": [],
   "source": [
    "#Unlock holdout\n",
    "UpdateProject(project, holdoutUnlocked = TRUE)\n",
    "\n",
    "#Wait a bit for this task to finish running. This command returns the model job id.\n",
    "\n",
    "#Get blueprint of the best model\n",
    "blueprint <- GetBlueprint(project, best_model$blueprintId)\n",
    "\n",
    "jobId <- RequestNewModel(project, blueprint, samplePct = 100)\n",
    "best_retrained_model <- GetModelFromJobId(project, jobId)"
   ]
  },
  {
   "cell_type": "markdown",
   "metadata": {},
   "source": [
    "## Predictions\n",
    "#### Modelling API\n",
    "You can use the modelling API if you use Python or R and there are multiple ways you can interact with it.\n",
    "#### Prediction API\n",
    "Any project can be called with the Prediction API if you have prediction servers. This is a simple REST API. Click on a model in the UI, then \"Deploy Model\" and \"Activate now\". You'll have access to a Python code snippet to help you interact with it. You can also deploy the model through the python API."
   ]
  },
  {
   "cell_type": "markdown",
   "metadata": {},
   "source": [
    "### Using the Modelling API"
   ]
  },
  {
   "cell_type": "code",
   "execution_count": null,
   "metadata": {},
   "outputs": [],
   "source": [
    "test_df <- read.csv(\"data/10k_diabetes_test.csv\") #Load testing data\n",
    "\n",
    "# Uploading the testing dataset\n",
    "scoring <- UploadPredictionDataset(project, dataSource = test_df)\n",
    "\n",
    "# Requesting prediction\n",
    "predict_job_id <- RequestPredictions(project, modelId = best_model$modelId, datasetId = scoring$id)\n",
    "\n",
    "# Grabbing predictions\n",
    "predictions_prob <- GetPredictions(project, \n",
    "                                   predictId = predict_job_id, \n",
    "                                   type = \"probability\")\n",
    "\n",
    "# Output\n",
    "head(data.frame(True_Class = test_df$readmitted, Probability = predictions_prob))"
   ]
  },
  {
   "cell_type": "code",
   "execution_count": null,
   "metadata": {},
   "outputs": [],
   "source": []
  }
 ],
 "metadata": {
  "kernelspec": {
   "display_name": "R",
   "language": "R",
   "name": "ir"
  },
  "language_info": {
   "codemirror_mode": "r",
   "file_extension": ".r",
   "mimetype": "text/x-r-source",
   "name": "R",
   "pygments_lexer": "r",
   "version": "3.6.2"
  }
 },
 "nbformat": 4,
 "nbformat_minor": 2
}
